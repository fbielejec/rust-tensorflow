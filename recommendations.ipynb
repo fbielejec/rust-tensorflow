{
 "cells": [
  {
   "cell_type": "code",
   "execution_count": 11,
   "metadata": {
    "autoscroll": false,
    "collapsed": false,
    "ein.hycell": false,
    "ein.tags": "worksheet-0",
    "slideshow": {
     "slide_type": "-"
    }
   },
   "outputs": [],
   "source": [
    "# --- 0\n",
    "import boto3\n",
    "import pandas as pd\n",
    "\n",
    "import numpy as np\n",
    "import numpy.ma as ma\n",
    "\n",
    "import tensorflow.compat.v2 as tf\n",
    "import tensorflow_probability as tfp\n",
    "\n",
    "tf.enable_v2_behavior()"
   ]
  },
  {
   "cell_type": "code",
   "execution_count": 23,
   "metadata": {
    "autoscroll": false,
    "collapsed": false,
    "ein.hycell": false,
    "ein.tags": "worksheet-0",
    "slideshow": {
     "slide_type": "-"
    }
   },
   "outputs": [
    {
     "data": {
      "text/plain": [
       "'4d07edcf-4b4b-4190-8cea-38daece8d4aa'"
      ]
     },
     "execution_count": 23,
     "metadata": {},
     "output_type": "execute_result"
    }
   ],
   "source": [
    "# --- 1\n",
    "params = {\n",
    "    \"region\" : \"us-west-1\",\n",
    "    \"database\" : \"events\",\n",
    "    \"bucket\" : \"clash-prod-datalake\",\n",
    "    \"result-path\" : \"query-results\",\n",
    "    # query returns progress on the first users interaction with a video\n",
    "    \"query\" : \"SELECT v1.video_SLASH_id, v1.user_SLASH_id, v1.video_SLASH_progress FROM view_video v1 JOIN (SELECT MIN(event_SLASH_timestamp) as event_SLASH_timestamp, user_SLASH_id, video_SLASH_id FROM view_video GROUP BY user_SLASH_id, video_SLASH_id) v2 ON v1.event_SLASH_timestamp = v2.event_SLASH_timestamp WHERE dt = '2020-11-03' ORDER BY video_SLASH_id, user_SLASH_id;\"\n",
    "}\n",
    "\n",
    "session = boto3.Session()\n",
    "\n",
    "def athena_query(client, params):\n",
    "    response = client.start_query_execution(\n",
    "        QueryString = params[\"query\"],\n",
    "        QueryExecutionContext = {\n",
    "            'Database': params['database']\n",
    "        },\n",
    "        ResultConfiguration = {\n",
    "            'OutputLocation': 's3://' + params['bucket'] + '/' + params['result-path']\n",
    "        }\n",
    "    )\n",
    "    return response\n",
    "\n",
    "client = session.client('athena', region_name = params[\"region\"])\n",
    "execution = athena_query(client, params)\n",
    "execution_id = execution['QueryExecutionId']\n",
    "execution_id"
   ]
  },
  {
   "cell_type": "code",
   "execution_count": 25,
   "metadata": {
    "autoscroll": false,
    "collapsed": false,
    "ein.hycell": false,
    "ein.tags": "worksheet-0",
    "slideshow": {
     "slide_type": "-"
    }
   },
   "outputs": [
    {
     "data": {
      "text/plain": [
       "{'QueryExecution': {'QueryExecutionId': '4d07edcf-4b4b-4190-8cea-38daece8d4aa',\n  'Query': \"SELECT v1.video_SLASH_id, v1.user_SLASH_id, v1.video_SLASH_progress FROM view_video v1 JOIN (SELECT MIN(event_SLASH_timestamp) as event_SLASH_timestamp, user_SLASH_id, video_SLASH_id FROM view_video GROUP BY user_SLASH_id, video_SLASH_id) v2 ON v1.event_SLASH_timestamp = v2.event_SLASH_timestamp WHERE dt = '2020-11-03' ORDER BY video_SLASH_id, user_SLASH_id\",\n  'StatementType': 'DML',\n  'ResultConfiguration': {'OutputLocation': 's3://clash-prod-datalake/query-results/4d07edcf-4b4b-4190-8cea-38daece8d4aa.csv'},\n  'QueryExecutionContext': {'Database': 'events'},\n  'Status': {'State': 'SUCCEEDED',\n   'SubmissionDateTime': datetime.datetime(2020, 11, 4, 14, 34, 54, 758000, tzinfo=tzlocal()),\n   'CompletionDateTime': datetime.datetime(2020, 11, 4, 14, 34, 59, 552000, tzinfo=tzlocal())},\n  'Statistics': {'EngineExecutionTimeInMillis': 4620,\n   'DataScannedInBytes': 12378049,\n   'TotalExecutionTimeInMillis': 4794,\n   'QueryQueueTimeInMillis': 122,\n   'QueryPlanningTimeInMillis': 1158,\n   'ServiceProcessingTimeInMillis': 52},\n  'WorkGroup': 'primary'},\n 'ResponseMetadata': {'RequestId': '8ae07218-c9e9-4454-8d2f-6522ec783a1f',\n  'HTTPStatusCode': 200,\n  'HTTPHeaders': {'content-type': 'application/x-amz-json-1.1',\n   'date': 'Wed, 04 Nov 2020 13:35:01 GMT',\n   'x-amzn-requestid': '8ae07218-c9e9-4454-8d2f-6522ec783a1f',\n   'content-length': '2001',\n   'connection': 'keep-alive'},\n  'RetryAttempts': 0}}"
      ]
     },
     "execution_count": 25,
     "metadata": {},
     "output_type": "execute_result"
    }
   ],
   "source": [
    "# --- 2\n",
    "client.get_query_execution(QueryExecutionId = execution_id)"
   ]
  },
  {
   "cell_type": "code",
   "execution_count": 51,
   "metadata": {
    "autoscroll": false,
    "collapsed": false,
    "ein.hycell": false,
    "ein.tags": "worksheet-0",
    "slideshow": {
     "slide_type": "-"
    }
   },
   "outputs": [
    {
     "data": {
      "text/html": [
       "<div>\n<style scoped>\n    .dataframe tbody tr th:only-of-type {\n        vertical-align: middle;\n    }\n\n    .dataframe tbody tr th {\n        vertical-align: top;\n    }\n\n    .dataframe thead th {\n        text-align: right;\n    }\n</style>\n<table border=\"1\" class=\"dataframe\">\n  <thead>\n    <tr style=\"text-align: right;\">\n      <th></th>\n      <th>video_slash_id</th>\n      <th>user_slash_id</th>\n      <th>video_slash_progress</th>\n    </tr>\n  </thead>\n  <tbody>\n    <tr>\n      <th>0</th>\n      <td>00201d96-fa3d-11ea-8000-02a4a06c46e9</td>\n      <td>db8f8da9-0a5d-11eb-8000-02a4a06c46e9</td>\n      <td>2</td>\n    </tr>\n    <tr>\n      <th>1</th>\n      <td>005c6ecc-f821-11ea-8000-02a4a06c46e9</td>\n      <td>75232c0e-f81d-11ea-8000-02a4a06c46e9</td>\n      <td>13</td>\n    </tr>\n    <tr>\n      <th>2</th>\n      <td>007fede6-0e47-11eb-8000-02a4a06c46e9</td>\n      <td>6ce366d5-1de2-11eb-9726-028b985194d3</td>\n      <td>7</td>\n    </tr>\n    <tr>\n      <th>3</th>\n      <td>0082f9bc-0d23-11eb-8000-02a4a06c46e9</td>\n      <td>2540eb28-1e31-11eb-9726-028b985194d3</td>\n      <td>2</td>\n    </tr>\n    <tr>\n      <th>4</th>\n      <td>00a95534-d84c-11ea-9add-02a4a06c46e9</td>\n      <td>0d559245-d315-11ea-8e78-0270e3994d0f</td>\n      <td>2</td>\n    </tr>\n    <tr>\n      <th>5</th>\n      <td>00b72d2a-1da8-11eb-9726-028b985194d3</td>\n      <td>3f2e381a-0dad-11eb-8000-02a4a06c46e9</td>\n      <td>5</td>\n    </tr>\n    <tr>\n      <th>6</th>\n      <td>00b72d2a-1da8-11eb-9726-028b985194d3</td>\n      <td>6604ab3c-13c2-11eb-9726-028b985194d3</td>\n      <td>7</td>\n    </tr>\n    <tr>\n      <th>7</th>\n      <td>00b72d2a-1da8-11eb-9726-028b985194d3</td>\n      <td>74f0c570-c326-11ea-aea4-02e044c0bbfb</td>\n      <td>4</td>\n    </tr>\n    <tr>\n      <th>8</th>\n      <td>00b72d2a-1da8-11eb-9726-028b985194d3</td>\n      <td>9324c5a0-1dfc-11eb-9726-028b985194d3</td>\n      <td>17</td>\n    </tr>\n    <tr>\n      <th>9</th>\n      <td>00d4db1a-d465-11ea-9add-02a4a06c46e9</td>\n      <td>155aceeb-13f9-11eb-9726-028b985194d3</td>\n      <td>5</td>\n    </tr>\n  </tbody>\n</table>\n</div>"
      ],
      "text/plain": [
       "                         video_slash_id                         user_slash_id  \\\n0  00201d96-fa3d-11ea-8000-02a4a06c46e9  db8f8da9-0a5d-11eb-8000-02a4a06c46e9   \n1  005c6ecc-f821-11ea-8000-02a4a06c46e9  75232c0e-f81d-11ea-8000-02a4a06c46e9   \n2  007fede6-0e47-11eb-8000-02a4a06c46e9  6ce366d5-1de2-11eb-9726-028b985194d3   \n3  0082f9bc-0d23-11eb-8000-02a4a06c46e9  2540eb28-1e31-11eb-9726-028b985194d3   \n4  00a95534-d84c-11ea-9add-02a4a06c46e9  0d559245-d315-11ea-8e78-0270e3994d0f   \n5  00b72d2a-1da8-11eb-9726-028b985194d3  3f2e381a-0dad-11eb-8000-02a4a06c46e9   \n6  00b72d2a-1da8-11eb-9726-028b985194d3  6604ab3c-13c2-11eb-9726-028b985194d3   \n7  00b72d2a-1da8-11eb-9726-028b985194d3  74f0c570-c326-11ea-aea4-02e044c0bbfb   \n8  00b72d2a-1da8-11eb-9726-028b985194d3  9324c5a0-1dfc-11eb-9726-028b985194d3   \n9  00d4db1a-d465-11ea-9add-02a4a06c46e9  155aceeb-13f9-11eb-9726-028b985194d3   \n\n   video_slash_progress  \n0                     2  \n1                    13  \n2                     7  \n3                     2  \n4                     2  \n5                     5  \n6                     7  \n7                     4  \n8                    17  \n9                     5  "
      ]
     },
     "execution_count": 51,
     "metadata": {},
     "output_type": "execute_result"
    }
   ],
   "source": [
    "# --- 3\n",
    "response = client.get_query_execution(QueryExecutionId = execution_id)\n",
    "s3_path = response['QueryExecution']['ResultConfiguration']['OutputLocation']\n",
    "data = pd.read_csv(s3_path)\n",
    "data.head (10)"
   ]
  },
  {
   "cell_type": "code",
   "execution_count": 40,
   "metadata": {
    "autoscroll": false,
    "collapsed": false,
    "ein.hycell": false,
    "ein.tags": "worksheet-0",
    "slideshow": {
     "slide_type": "-"
    }
   },
   "outputs": [
    {
     "data": {
      "text/html": [
       "<div>\n<style scoped>\n    .dataframe tbody tr th:only-of-type {\n        vertical-align: middle;\n    }\n\n    .dataframe tbody tr th {\n        vertical-align: top;\n    }\n\n    .dataframe thead th {\n        text-align: right;\n    }\n</style>\n<table border=\"1\" class=\"dataframe\">\n  <thead>\n    <tr style=\"text-align: right;\">\n      <th></th>\n      <th>video_slash_id</th>\n      <th>video_slash_progress</th>\n      <th>user_slash_id</th>\n    </tr>\n  </thead>\n  <tbody>\n    <tr>\n      <th>0</th>\n      <td>Lady</td>\n      <td>2.5</td>\n      <td>Lisa</td>\n    </tr>\n    <tr>\n      <th>1</th>\n      <td>Lady</td>\n      <td>3.0</td>\n      <td>Gene</td>\n    </tr>\n    <tr>\n      <th>2</th>\n      <td>Lady</td>\n      <td>2.5</td>\n      <td>Michael</td>\n    </tr>\n    <tr>\n      <th>4</th>\n      <td>Lady</td>\n      <td>3.0</td>\n      <td>Mick</td>\n    </tr>\n    <tr>\n      <th>5</th>\n      <td>Lady</td>\n      <td>3.0</td>\n      <td>Jack</td>\n    </tr>\n    <tr>\n      <th>7</th>\n      <td>Snakes</td>\n      <td>3.5</td>\n      <td>Lisa</td>\n    </tr>\n    <tr>\n      <th>8</th>\n      <td>Snakes</td>\n      <td>3.5</td>\n      <td>Gene</td>\n    </tr>\n    <tr>\n      <th>9</th>\n      <td>Snakes</td>\n      <td>3.0</td>\n      <td>Michael</td>\n    </tr>\n    <tr>\n      <th>10</th>\n      <td>Snakes</td>\n      <td>3.5</td>\n      <td>Claudia</td>\n    </tr>\n    <tr>\n      <th>11</th>\n      <td>Snakes</td>\n      <td>4.0</td>\n      <td>Mick</td>\n    </tr>\n    <tr>\n      <th>12</th>\n      <td>Snakes</td>\n      <td>4.0</td>\n      <td>Jack</td>\n    </tr>\n    <tr>\n      <th>13</th>\n      <td>Snakes</td>\n      <td>4.5</td>\n      <td>Toby</td>\n    </tr>\n    <tr>\n      <th>14</th>\n      <td>Just</td>\n      <td>3.0</td>\n      <td>Lisa</td>\n    </tr>\n    <tr>\n      <th>15</th>\n      <td>Just</td>\n      <td>1.5</td>\n      <td>Gene</td>\n    </tr>\n    <tr>\n      <th>17</th>\n      <td>Just</td>\n      <td>3.0</td>\n      <td>Claudia</td>\n    </tr>\n    <tr>\n      <th>18</th>\n      <td>Just</td>\n      <td>2.0</td>\n      <td>Mick</td>\n    </tr>\n    <tr>\n      <th>21</th>\n      <td>Superman</td>\n      <td>3.5</td>\n      <td>Lisa</td>\n    </tr>\n    <tr>\n      <th>22</th>\n      <td>Superman</td>\n      <td>5.0</td>\n      <td>Gene</td>\n    </tr>\n    <tr>\n      <th>23</th>\n      <td>Superman</td>\n      <td>3.5</td>\n      <td>Michael</td>\n    </tr>\n    <tr>\n      <th>24</th>\n      <td>Superman</td>\n      <td>4.0</td>\n      <td>Claudia</td>\n    </tr>\n    <tr>\n      <th>25</th>\n      <td>Superman</td>\n      <td>3.0</td>\n      <td>Mick</td>\n    </tr>\n    <tr>\n      <th>26</th>\n      <td>Superman</td>\n      <td>5.0</td>\n      <td>Jack</td>\n    </tr>\n    <tr>\n      <th>27</th>\n      <td>Superman</td>\n      <td>4.0</td>\n      <td>Toby</td>\n    </tr>\n    <tr>\n      <th>28</th>\n      <td>You</td>\n      <td>2.5</td>\n      <td>Lisa</td>\n    </tr>\n    <tr>\n      <th>29</th>\n      <td>You</td>\n      <td>3.5</td>\n      <td>Gene</td>\n    </tr>\n    <tr>\n      <th>31</th>\n      <td>You</td>\n      <td>2.5</td>\n      <td>Claudia</td>\n    </tr>\n    <tr>\n      <th>32</th>\n      <td>You</td>\n      <td>2.0</td>\n      <td>Mick</td>\n    </tr>\n    <tr>\n      <th>33</th>\n      <td>You</td>\n      <td>3.5</td>\n      <td>Jack</td>\n    </tr>\n    <tr>\n      <th>34</th>\n      <td>You</td>\n      <td>1.0</td>\n      <td>Toby</td>\n    </tr>\n    <tr>\n      <th>35</th>\n      <td>TNL</td>\n      <td>3.0</td>\n      <td>Lisa</td>\n    </tr>\n    <tr>\n      <th>36</th>\n      <td>TNL</td>\n      <td>3.0</td>\n      <td>Gene</td>\n    </tr>\n    <tr>\n      <th>37</th>\n      <td>TNL</td>\n      <td>4.0</td>\n      <td>Michael</td>\n    </tr>\n    <tr>\n      <th>38</th>\n      <td>TNL</td>\n      <td>4.5</td>\n      <td>Claudia</td>\n    </tr>\n    <tr>\n      <th>39</th>\n      <td>TNL</td>\n      <td>3.0</td>\n      <td>Mick</td>\n    </tr>\n    <tr>\n      <th>40</th>\n      <td>TNL</td>\n      <td>3.0</td>\n      <td>Jack</td>\n    </tr>\n  </tbody>\n</table>\n</div>"
      ],
      "text/plain": [
       "   video_slash_id  video_slash_progress user_slash_id\n0            Lady                   2.5          Lisa\n1            Lady                   3.0          Gene\n2            Lady                   2.5       Michael\n4            Lady                   3.0          Mick\n5            Lady                   3.0          Jack\n7          Snakes                   3.5          Lisa\n8          Snakes                   3.5          Gene\n9          Snakes                   3.0       Michael\n10         Snakes                   3.5       Claudia\n11         Snakes                   4.0          Mick\n12         Snakes                   4.0          Jack\n13         Snakes                   4.5          Toby\n14           Just                   3.0          Lisa\n15           Just                   1.5          Gene\n17           Just                   3.0       Claudia\n18           Just                   2.0          Mick\n21       Superman                   3.5          Lisa\n22       Superman                   5.0          Gene\n23       Superman                   3.5       Michael\n24       Superman                   4.0       Claudia\n25       Superman                   3.0          Mick\n26       Superman                   5.0          Jack\n27       Superman                   4.0          Toby\n28            You                   2.5          Lisa\n29            You                   3.5          Gene\n31            You                   2.5       Claudia\n32            You                   2.0          Mick\n33            You                   3.5          Jack\n34            You                   1.0          Toby\n35            TNL                   3.0          Lisa\n36            TNL                   3.0          Gene\n37            TNL                   4.0       Michael\n38            TNL                   4.5       Claudia\n39            TNL                   3.0          Mick\n40            TNL                   3.0          Jack"
      ]
     },
     "execution_count": 40,
     "metadata": {},
     "output_type": "execute_result"
    }
   ],
   "source": [
    "# --- 3\n",
    "nan = float('NaN')\n",
    "users = [\"Lisa\", \"Gene\", \"Michael\", \"Claudia\", \"Mick\", \"Jack\", \"Toby\"]\n",
    "videos = [\"Lady\", \"Snakes\", \"Just\", \"Superman\", \"You\", \"TNL\"]\n",
    "\n",
    "data = pd.DataFrame (np.array([\n",
    "    # Lady Snakes Just Superman You TNL\n",
    "    [ 2.5, 3.5, 3.0, 3.5, 2.5, 3.0 ], # Lisa\n",
    "    [ 3.0, 3.5, 1.5, 5.0, 3.5, 3.0 ], # Gene\n",
    "    [ 2.5, 3.0, nan, 3.5, nan, 4.0 ], # Michael\n",
    "    [ nan, 3.5, 3.0, 4.0, 2.5, 4.5 ], # Claudia\n",
    "    [ 3.0, 4.0, 2.0, 3.0, 2.0, 3.0 ], # Mick\n",
    "    [ 3.0, 4.0, nan, 5.0, 3.5, 3.0 ], # Jack\n",
    "    [ nan, 4.5, nan, 4.0, 1.0, nan ]  # Toby\n",
    "]),\n",
    "                     index = users,\n",
    "                     columns = videos)\n",
    "\n",
    "data = pd.melt (data, value_vars=videos, var_name='video_slash_id', value_name='video_slash_progress')\n",
    "data['user_slash_id'] = np.repeat([users], len (videos), axis=0).flatten ()\n",
    "data = data.dropna()\n",
    "data"
   ]
  },
  {
   "cell_type": "code",
   "execution_count": 52,
   "metadata": {
    "autoscroll": false,
    "collapsed": false,
    "ein.hycell": false,
    "ein.tags": "worksheet-0",
    "slideshow": {
     "slide_type": "-"
    }
   },
   "outputs": [
    {
     "name": "stdout",
     "output_type": "stream",
     "text": [
      "(2237, 3362)\n"
     ]
    },
    {
     "data": {
      "text/plain": [
       "array([[nan, nan, nan, ..., nan, nan, nan],\n       [nan, nan, nan, ..., nan, nan, nan],\n       [nan, nan, nan, ..., nan, nan, nan],\n       ...,\n       [nan, nan, nan, ..., nan, nan, nan],\n       [nan, nan, nan, ..., nan, nan, nan],\n       [nan, nan, nan, ..., nan, nan, nan]])"
      ]
     },
     "execution_count": 52,
     "metadata": {},
     "output_type": "execute_result"
    }
   ],
   "source": [
    "# --- 4\n",
    "s = pd.pivot_table(data, values = 'video_slash_progress', index = ['user_slash_id'], columns = ['video_slash_id'])\n",
    "videos = s.columns\n",
    "users = s.index\n",
    "# print (s)\n",
    "\n",
    "s = np.array (s)\n",
    "print (s.shape)\n",
    "s"
   ]
  },
  {
   "cell_type": "code",
   "execution_count": 85,
   "metadata": {
    "autoscroll": false,
    "collapsed": false,
    "ein.hycell": false,
    "ein.tags": "worksheet-0",
    "slideshow": {
     "slide_type": "-"
    }
   },
   "outputs": [
    {
     "data": {
      "text/plain": [
       "<tf.Tensor: shape=(7, 6), dtype=float32, numpy=\narray([[2.5, 3.5, 3. , 3.5, 2.5, 3. ],\n       [3. , 3.5, 1.5, 5. , 3.5, 3. ],\n       [2.5, 3. , nan, 3.5, nan, 4. ],\n       [nan, 3.5, 3. , 4. , 2.5, 4.5],\n       [3. , 4. , 2. , 3. , 2. , 3. ],\n       [3. , 4. , nan, 5. , 3.5, 3. ],\n       [nan, 4.5, nan, 4. , 1. , nan]], dtype=float32)>"
      ]
     },
     "execution_count": 85,
     "metadata": {},
     "output_type": "execute_result"
    }
   ],
   "source": [
    "# --- 5\n",
    "# TODO : tf.SparseTensor\n",
    "scores = tf.constant(s, dtype=tf.float32)\n",
    "\n",
    "# scores = tf.constant([\n",
    "#     # Lady Snakes Just Superman You TNL\n",
    "#     [ 2.5, 3.5, 3.0, 3.5, 2.5, 3.0 ], # Lisa\n",
    "#     [ 3.0, 3.5, 1.5, 5.0, 3.5, 3.0 ], # Gene\n",
    "#     [ 2.5, 3.0, nan, 3.5, nan, 4.0 ], # Michael\n",
    "#     [ nan, 3.5, 3.0, 4.0, 2.5, 4.5 ], # Claudia\n",
    "#     [ 3.0, 4.0, 2.0, 3.0, 2.0, 3.0 ], # Mick\n",
    "#     [ 3.0, 4.0, nan, 5.0, 3.5, 3.0 ], # Jack\n",
    "#     [ nan, 4.5, nan, 4.0, 1.0, nan ]  # Toby\n",
    "# ])\n",
    "\n",
    "scores"
   ]
  },
  {
   "cell_type": "code",
   "execution_count": 87,
   "metadata": {
    "autoscroll": false,
    "collapsed": false,
    "ein.hycell": false,
    "ein.tags": "worksheet-0",
    "slideshow": {
     "slide_type": "-"
    }
   },
   "outputs": [
    {
     "name": "stdout",
     "output_type": "stream",
     "text": [
      "Executing with tensorflow v2.3.0\n"
     ]
    },
    {
     "name": "stdout",
     "output_type": "stream",
     "text": [
      "WARNING:tensorflow:6 out of the last 6 calls to <function Recommender.__call__ at 0x7f5bb45c2200> triggered tf.function retracing. Tracing is expensive and the excessive number of tracings could be due to (1) creating @tf.function repeatedly in a loop, (2) passing tensors with different shapes, (3) passing Python objects instead of tensors. For (1), please define your @tf.function outside of the loop. For (2), @tf.function has experimental_relax_shapes=True option that relaxes argument shapes that can avoid unnecessary retracing. For (3), please refer to https://www.tensorflow.org/tutorials/customization/performance#python_or_tensor_args and https://www.tensorflow.org/api_docs/python/tf/function for  more details.\n"
     ]
    },
    {
     "name": "stdout",
     "output_type": "stream",
     "text": [
      "tf.Tensor(\n",
      "[[5.        3.3477895]\n",
      " [0.        2.1757958]\n",
      " [2.        2.095589 ]], shape=(3, 2), dtype=float32)\n",
      "INFO:tensorflow:Assets written to: ./saved_model/assets\n"
     ]
    }
   ],
   "source": [
    "@tf.function (input_signature=(tf.TensorSpec(shape=(None,), dtype=tf.float32),\n",
    "                               tf.TensorSpec(shape=(None,), dtype=tf.float32)))  \n",
    "def cor_na_omit (x, y):\n",
    "    ind1 = tf.math.logical_not (tf.math.is_nan(x))\n",
    "    ind2 = tf.math.logical_not (tf.math.is_nan(y))\n",
    "    indices = tf.reduce_all(tf.stack ([ind1, ind2]), 0)\n",
    "    return tfp.stats.correlation (x [indices], y [indices], sample_axis = 0, event_axis = None)\n",
    "\n",
    "class Recommender(tf.Module):\n",
    "    \n",
    "  def __init__(self):\n",
    "    super(Recommender, self).__init__()\n",
    "\n",
    "  @tf.function (input_signature=(tf.TensorSpec(shape=[None,None], dtype=tf.float32),\n",
    "                                 tf.TensorSpec(shape=(), dtype=tf.int32)))  \n",
    "  def __call__(self, scores, user_index):\n",
    "    tf.print('Executing with tensorflow v'+ tf.__version__)    \n",
    "    user_row = tf.reshape(tf.gather(scores, user_index), [-1])\n",
    "    c_hat = tf.map_fn(fn=lambda row: cor_na_omit (user_row, row), elems = scores)       \n",
    "    # keep only positively correlated users\n",
    "    users_indices = tf.where(c_hat > 0)[:,-1]\n",
    "    # remove user row\n",
    "    not_user_index = tf.where (users_indices != tf.cast(user_index, dtype=tf.int64))[:,-1]    \n",
    "    users_indices = tf.gather (users_indices, not_user_index, axis=0)    \n",
    "    # only videos user has not seen\n",
    "    videos_indices = tf.where(tf.math.is_nan(user_row))[:,-1]\n",
    "    c_hat = tf.gather (c_hat, users_indices, axis=0)    \n",
    "    s = tf.gather (tf.gather (scores, users_indices, axis=0), videos_indices, axis=1)\n",
    "    # fill missing values with 0's\n",
    "    s = tf.where(tf.math.is_nan(s), tf.zeros_like(s), s)\n",
    "    c_hat = tf.reshape (c_hat, [1, tf.shape (c_hat) [0]])\n",
    "    r = tf.matmul (c_hat, s)\n",
    "    r = r[-1]\n",
    "    # remove 0 and NAN scored recomendations\n",
    "    non_zero_indices = tf.where(r > 0)[:,-1] \n",
    "    r = tf.gather (r, non_zero_indices, axis=0)    \n",
    "    total = tf.math.reduce_sum (c_hat)\n",
    "    r = r/total\n",
    "    order = tf.argsort(r, direction='DESCENDING', axis=0)\n",
    "    videos_indices = tf.cast(videos_indices, dtype=tf.float32)\n",
    "    recommendations = tf.stack([tf.gather (videos_indices, order),\n",
    "                                tf.gather (r, order)],\n",
    "                               axis=1)    \n",
    "    return recommendations\n",
    "\n",
    "# --- run model\n",
    "model = Recommender ()\n",
    "print (model (scores, tf.constant(6)))\n",
    "\n",
    "# --- save model\n",
    "# saved_model_cli show --dir ./saved_model --all\n",
    "PATH = \"./saved_model\"\n",
    "tf.saved_model.save(model, PATH)"
   ]
  },
  {
   "cell_type": "code",
   "execution_count": 84,
   "metadata": {
    "autoscroll": false,
    "collapsed": false,
    "ein.hycell": false,
    "ein.tags": "worksheet-0",
    "slideshow": {
     "slide_type": "-"
    }
   },
   "outputs": [
    {
     "name": "stdout",
     "output_type": "stream",
     "text": [
      "Executing with tensorflow v2.3.0\n"
     ]
    },
    {
     "name": "stdout",
     "output_type": "stream",
     "text": [
      "WARNING:tensorflow:6 out of the last 6 calls to <function recreate_function.<locals>.restored_function_body at 0x7f5a4f7b98c0> triggered tf.function retracing. Tracing is expensive and the excessive number of tracings could be due to (1) creating @tf.function repeatedly in a loop, (2) passing tensors with different shapes, (3) passing Python objects instead of tensors. For (1), please define your @tf.function outside of the loop. For (2), @tf.function has experimental_relax_shapes=True option that relaxes argument shapes that can avoid unnecessary retracing. For (3), please refer to https://www.tensorflow.org/tutorials/customization/performance#python_or_tensor_args and https://www.tensorflow.org/api_docs/python/tf/function for  more details.\n"
     ]
    },
    {
     "data": {
      "text/plain": [
       "<tf.Tensor: shape=(554, 2), dtype=float32, numpy=\narray([[4.4500000e+02, 6.1678324e+00],\n       [3.6000000e+02, 5.8321676e+00],\n       [9.5000000e+01, 5.1328673e+00],\n       ...,\n       [8.1000000e+01, 1.3986013e-02],\n       [9.1000000e+01, 1.3986013e-02],\n       [3.5300000e+02, 1.3986013e-02]], dtype=float32)>"
      ]
     },
     "execution_count": 84,
     "metadata": {},
     "output_type": "execute_result"
    }
   ],
   "source": [
    "# --- load model\n",
    "loaded = tf.keras.models.load_model(PATH)\n",
    "loaded (s, tf.constant(100))"
   ]
  },
  {
   "cell_type": "code",
   "execution_count": 159,
   "metadata": {
    "autoscroll": false,
    "collapsed": false,
    "ein.hycell": false,
    "ein.tags": "worksheet-0",
    "slideshow": {
     "slide_type": "-"
    }
   },
   "outputs": [
    {
     "name": "stdout",
     "output_type": "stream",
     "text": [
      "TNL\n",
      "Lady\n",
      "Just\n"
     ]
    }
   ],
   "source": [
    "print (videos [4])\n",
    "print (videos [1])\n",
    "print (videos [0])"
   ]
  },
  {
   "cell_type": "code",
   "execution_count": null,
   "metadata": {
    "autoscroll": false,
    "collapsed": false,
    "ein.hycell": false,
    "ein.tags": "worksheet-0",
    "slideshow": {
     "slide_type": "-"
    }
   },
   "outputs": [],
   "source": []
  }
 ],
 "metadata": {
  "kernelspec": {
   "display_name": "Environment (conda_tensorflow2_latest_p37)",
   "language": "python",
   "name": "conda_tensorflow2_latest_p37"
  },
  "language_info": {
   "codemirror_mode": {
    "name": "ipython",
    "version": 3
   },
   "file_extension": ".py",
   "mimetype": "text/x-python",
   "name": "python",
   "nbconvert_exporter": "python",
   "pygments_lexer": "ipython3",
   "version": "3.7.6"
  },
  "name": "recommender.ipynb"
 },
 "nbformat": 4,
 "nbformat_minor": 4
}
